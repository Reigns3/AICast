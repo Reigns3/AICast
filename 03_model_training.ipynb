{
 "cells": [
  {
   "cell_type": "code",
   "execution_count": 1,
   "id": "f2eb6410-0e13-410a-bb92-424051e790cb",
   "metadata": {},
   "outputs": [
    {
     "name": "stderr",
     "output_type": "stream",
     "text": [
      "2025-03-31 12:32:00.293540: I tensorflow/core/util/port.cc:153] oneDNN custom operations are on. You may see slightly different numerical results due to floating-point round-off errors from different computation orders. To turn them off, set the environment variable `TF_ENABLE_ONEDNN_OPTS=0`.\n",
      "2025-03-31 12:32:00.297110: I external/local_xla/xla/tsl/cuda/cudart_stub.cc:32] Could not find cuda drivers on your machine, GPU will not be used.\n",
      "2025-03-31 12:32:00.390841: I external/local_xla/xla/tsl/cuda/cudart_stub.cc:32] Could not find cuda drivers on your machine, GPU will not be used.\n",
      "2025-03-31 12:32:00.429627: E external/local_xla/xla/stream_executor/cuda/cuda_fft.cc:467] Unable to register cuFFT factory: Attempting to register factory for plugin cuFFT when one has already been registered\n",
      "WARNING: All log messages before absl::InitializeLog() is called are written to STDERR\n",
      "E0000 00:00:1743417120.513075    8469 cuda_dnn.cc:8579] Unable to register cuDNN factory: Attempting to register factory for plugin cuDNN when one has already been registered\n",
      "E0000 00:00:1743417120.530464    8469 cuda_blas.cc:1407] Unable to register cuBLAS factory: Attempting to register factory for plugin cuBLAS when one has already been registered\n",
      "W0000 00:00:1743417120.662109    8469 computation_placer.cc:177] computation placer already registered. Please check linkage and avoid linking the same target more than once.\n",
      "W0000 00:00:1743417120.662153    8469 computation_placer.cc:177] computation placer already registered. Please check linkage and avoid linking the same target more than once.\n",
      "W0000 00:00:1743417120.662156    8469 computation_placer.cc:177] computation placer already registered. Please check linkage and avoid linking the same target more than once.\n",
      "W0000 00:00:1743417120.662158    8469 computation_placer.cc:177] computation placer already registered. Please check linkage and avoid linking the same target more than once.\n",
      "2025-03-31 12:32:00.671465: I tensorflow/core/platform/cpu_feature_guard.cc:210] This TensorFlow binary is optimized to use available CPU instructions in performance-critical operations.\n",
      "To enable the following instructions: AVX2 AVX_VNNI FMA, in other operations, rebuild TensorFlow with the appropriate compiler flags.\n"
     ]
    },
    {
     "name": "stdout",
     "output_type": "stream",
     "text": [
      "X_train shape: (28027, 24, 11, 33, 8)\n",
      "y_train shape: (28027, 11, 33, 8)\n",
      "X_val shape: (6989, 24, 11, 33, 8)\n",
      "y_val shape: (6989, 11, 33, 8)\n"
     ]
    }
   ],
   "source": [
    "import numpy as np\n",
    "import joblib\n",
    "import tensorflow as tf\n",
    "from tensorflow.keras.models import Sequential\n",
    "from tensorflow.keras.layers import Conv2D, MaxPooling2D,Input, Flatten, Dense, LSTM, TimeDistributed, Reshape, Dropout\n",
    "from tensorflow.keras.layers import ConvLSTM2D, Dense, Flatten, Reshape, Dropout  \n",
    "from tensorflow.keras.optimizers import Adam\n",
    "import matplotlib.pyplot as plt\n",
    "\n",
    "# Load preprocessed data\n",
    "X_train = np.load('data/X_train.npy')\n",
    "y_train = np.load('data/y_train.npy')\n",
    "X_val = np.load('data/X_val.npy')\n",
    "y_val = np.load('data/y_val.npy')\n",
    "#X_test = np.load('data/X_test.npy')\n",
    "#y_test = np.load('data/y_test.npy')\n",
    "scaler = joblib.load('data/scaler.pkl')\n",
    "\n",
    "# Verify shapes\n",
    "print(\"X_train shape:\", X_train.shape)\n",
    "print(\"y_train shape:\", y_train.shape)\n",
    "print(\"X_val shape:\", X_val.shape)\n",
    "print(\"y_val shape:\", y_val.shape)\n",
    "#print(\"X_test shape:\", X_test.shape)\n",
    "#print(\"y_test shape:\", y_test.shape)"
   ]
  },
  {
   "cell_type": "code",
   "execution_count": null,
   "id": "d6dd6144-6c4a-4c18-972d-eaa0e392a03e",
   "metadata": {},
   "outputs": [],
   "source": [
    "#ConvLSTM v4 \n",
    "\n",
    "n_timesteps, n_lat, n_lon, n_vars = X_train.shape[1:]  # e.g., (24, 11, 33, 9)\n",
    "\n",
    "# Define Sequential model\n",
    "model = Sequential([\n",
    "    # First ConvLSTM layer\n",
    "    ConvLSTM2D(filters=32, kernel_size=(3, 3), padding='same',activation='relu',\n",
    "               input_shape=(n_timesteps, n_lat, n_lon, n_vars),\n",
    "               return_sequences=True),\n",
    "    Dropout(0.2),\n",
    "    # Second ConvLSTM layer\n",
    "    ConvLSTM2D(filters=64, kernel_size=(3, 3), padding='same',activation='relu',\n",
    "               return_sequences=False),\n",
    "    Dropout(0.2),\n",
    "    # Flatten to prepare for Dense layer\n",
    "    Flatten(),\n",
    "    # Dense layer to map to output shape\n",
    "    Dense(n_lat * n_lon * n_vars, activation='linear'),\n",
    "    \n",
    "    # Reshape to match target shape (11, 33, 9)\n",
    "    Reshape((n_lat, n_lon, n_vars))\n",
    "])\n",
    "\n",
    "# Compile model\n",
    "model.compile(optimizer=Adam(learning_rate=0.001), loss='mse', metrics=['mae'])\n",
    "\n",
    "# Train model \n",
    "history = model.fit(X_train, y_train, validation_data=(X_val, y_val),\n",
    "                    epochs=20, batch_size=64, verbose=1)\n",
    "\n",
    "# Save model\n",
    "model.save('models/convlstm_model_v4_final.keras')\n",
    "joblib.dump(scaler, 'scaler.pkl')\n"
   ]
  }
 ],
 "metadata": {
  "kernelspec": {
   "display_name": "TensorFlow Env",
   "language": "python",
   "name": "tf_env"
  },
  "language_info": {
   "codemirror_mode": {
    "name": "ipython",
    "version": 3
   },
   "file_extension": ".py",
   "mimetype": "text/x-python",
   "name": "python",
   "nbconvert_exporter": "python",
   "pygments_lexer": "ipython3",
   "version": "3.11.11"
  }
 },
 "nbformat": 4,
 "nbformat_minor": 5
}
